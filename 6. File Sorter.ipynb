{
 "cells": [
  {
   "cell_type": "code",
   "id": "initial_id",
   "metadata": {
    "collapsed": true,
    "ExecuteTime": {
     "end_time": "2025-09-23T09:56:55.872345Z",
     "start_time": "2025-09-23T09:56:55.866980Z"
    }
   },
   "source": "import os, shutil",
   "outputs": [],
   "execution_count": 20
  },
  {
   "metadata": {
    "ExecuteTime": {
     "end_time": "2025-09-23T09:56:56.887026Z",
     "start_time": "2025-09-23T09:56:56.882655Z"
    }
   },
   "cell_type": "code",
   "source": "path = r\"C:\\Users\\Umer Azmi\\Downloads\\Project\"",
   "id": "ac8001f90ff7b092",
   "outputs": [],
   "execution_count": 21
  },
  {
   "metadata": {
    "ExecuteTime": {
     "end_time": "2025-09-23T10:19:18.013950Z",
     "start_time": "2025-09-23T10:19:18.008924Z"
    }
   },
   "cell_type": "code",
   "source": [
    "file_name = os.listdir(path)\n",
    "print('\\n'.join(file_name))"
   ],
   "id": "389398f1daec3ba2",
   "outputs": [
    {
     "name": "stdout",
     "output_type": "stream",
     "text": [
      "APR-MAR 2025 H1_H2 Sales Closing CD.xlsx\n",
      "camping-alone-wallpaper-2880x1800_8.jpg\n",
      "DE.pdf\n",
      "doshi.pdf\n",
      "DPLUS.pdf\n",
      "Environmental Management pyq.docx\n",
      "fairdeal.xlsx\n",
      "galaxy.xls\n",
      "GD.pdf\n",
      "Image Folder\n",
      "PDF & Word Folder\n",
      "Spreadsheet Folder\n"
     ]
    }
   ],
   "execution_count": 40
  },
  {
   "metadata": {
    "ExecuteTime": {
     "end_time": "2025-09-23T09:57:28.935049Z",
     "start_time": "2025-09-23T09:57:28.927999Z"
    }
   },
   "cell_type": "code",
   "source": [
    "folder_name = ['Image Folder','PDF & Word Folder','Spreadsheet Folder']\n",
    "for loop in folder_name:\n",
    "    if not os.path.exists(f'{path}\\\\{loop}'):\n",
    "        os.makedirs(f'{path}\\\\{loop}')"
   ],
   "id": "aa35737767975237",
   "outputs": [],
   "execution_count": 26
  },
  {
   "metadata": {
    "ExecuteTime": {
     "end_time": "2025-09-23T10:22:32.079423Z",
     "start_time": "2025-09-23T10:22:32.070958Z"
    }
   },
   "cell_type": "code",
   "source": [
    "for file in file_name:\n",
    "    if file.lower().endswith(('.jpg','.img','.png')) and not os.path.exists(f'{path}\\\\Image Folder\\\\{file}'):\n",
    "        shutil.move(f'{path}\\\\{file}',f'{path}\\\\Image Folder\\\\{file}')\n",
    "    elif file.lower().endswith(('.pdf','.docx')) and not os.path.exists(f'{path}\\\\PDF & Word Folder\\\\{file}'):\n",
    "        shutil.move(f'{path}\\\\{file}',f'{path}\\\\PDF & Word Folder\\\\{file}')\n",
    "    elif file.lower().endswith(('.csv','.xls','.xlsx')) and not os.path.exists(f'{path}\\\\Spreadsheet Folder\\\\{file}'):\n",
    "        shutil.move(f'{path}\\\\{file}',f'{path}\\\\Spreadsheet Folder\\\\{file}')"
   ],
   "id": "504581624116ebec",
   "outputs": [],
   "execution_count": 42
  }
 ],
 "metadata": {
  "kernelspec": {
   "display_name": "Python [conda env:base] *",
   "language": "python",
   "name": "conda-base-py"
  },
  "language_info": {
   "codemirror_mode": {
    "name": "ipython",
    "version": 2
   },
   "file_extension": ".py",
   "mimetype": "text/x-python",
   "name": "python",
   "nbconvert_exporter": "python",
   "pygments_lexer": "ipython2",
   "version": "2.7.6"
  }
 },
 "nbformat": 4,
 "nbformat_minor": 5
}
